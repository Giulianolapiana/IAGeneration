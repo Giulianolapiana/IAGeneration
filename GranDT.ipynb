{
 "cells": [
  {
   "cell_type": "code",
   "execution_count": null,
   "metadata": {},
   "outputs": [],
   "source": [
    "pip install -U google-generativeai #instala googleai para buscar las recetas\n",
    "pip install openai #instala openai para generar la imagen\n",
    "\n",
    "import google.generativeai as genai #importa gemini\n",
    "import openai #importa openai\n",
    "import requests #necesario\n",
    "import os #necesario"
   ]
  },
  {
   "cell_type": "code",
   "execution_count": null,
   "metadata": {},
   "outputs": [],
   "source": [
    "openai.api_key = \"\" #configura tu apikey de openia\n",
    "genai.configure(api_key=\"\") #configura tu apikey de gemini"
   ]
  },
  {
   "cell_type": "code",
   "execution_count": null,
   "metadata": {},
   "outputs": [],
   "source": [
    "#modelo de google\n",
    "generation_config = {\n",
    "    \"temperature\": 0.5,\n",
    "    \"top_p\": 0.95,\n",
    "    \"top_k\": 64,\n",
    "    \"max_output_tokens\": 8192,\n",
    "    \"response_mime_type\": \"text/plain\",\n",
    "}\n",
    "#en el system_instruction se da el contexto, en este caso es un openbook porque le pido que busque en su base de datos la receta.\n",
    "model = genai.GenerativeModel(\n",
    "    model_name=\"gemini-1.5-flash\",\n",
    "    generation_config=generation_config,\n",
    "    system_instruction=\"Eres un manager de fútbol un profesional como Pep Guardiola el hombre que más sabe de fútbol, y recomendará a los mejores jugadores para la posición del campo solicitada, dando datos como su valor, edad y habilidad con el balón. Además generas una imagen de el jugador con otro modelo por lo que si el usuario te dice no después de la primera recomendación es por que no requirió la imagen.\",\n",
    ")\n"
   ]
  },
  {
   "cell_type": "code",
   "execution_count": null,
   "metadata": {},
   "outputs": [],
   "source": [
    "history_chat = []\n",
    "# funcion para generar la imagen desde openai\n",
    "def generate_image_with_openai(prompt):\n",
    "    image_response = openai.Image.create(\n",
    "        prompt=prompt,\n",
    "        n=1,\n",
    "        size=\"1024x1024\"\n",
    "    )\n",
    "\n",
    "    # retorna la imagen en una url\n",
    "    response = image_response['data'][0]['url']\n",
    "    return response\n",
    "\n",
    "#funcion para iniciar el chat en un bucle while\n",
    "def chat():\n",
    "    chat_session = model.start_chat(history=history_chat)\n",
    "    \n",
    "    print(\"Soy Pep Guardiola un entrenador de fútbol. Doy recomendaciones de jugadors que puedes necesitar para tu equipo, adelante pideme la posición del campo en la que te interesa fichar a un jugador.\")\n",
    "    \n",
    "    while True:\n",
    "\n",
    "        user_message = input(\"Tu: \")\n",
    "\n",
    "        if user_message.lower() == \"salir\":  # Salir del chat\n",
    "            break\n",
    "\n",
    "        response = chat_session.send_message(user_message)\n",
    "        print(response.text)  \n",
    "\n",
    "        # Actualizar historial con la respuesta de Gemini\n",
    "        history_chat.append({'role': 'user', 'parts': [user_message]})\n",
    "        history_chat.append({'role': 'model', 'parts': [response.text]})\n",
    "\n",
    "        # Después de la primera respuesta de gemini, se pregunta si se debe generar una imagen\n",
    "        if len(history_chat) == 2:  # Verifica que es la primera interacción completa osea, usuario y modelo.\n",
    "            #pregunta al usuario mediante un si o no si requiere la imagen o no.\n",
    "            generate_image = input(\"¿Deseas generar una imagen con OpenAI basada en tu mensaje? (sí/no): \").strip().lower()\n",
    "            \n",
    "            if generate_image == \"sí\" or generate_image == \"si\":\n",
    "                image_url = generate_image_with_openai(user_message)\n",
    "                print(f\"Image URL: {image_url}\")\n",
    "            elif generate_image == \"no\":\n",
    "                print(\"Elija otra posicion del campo o otra opcion de jugador, si desea salir escriba 'salir' \")\n",
    "\n",
    "            else:\n",
    "                print(\"Respuesta no válida. Por favor, responde con 'sí' o 'no'.\")\n",
    "\n",
    "                # Agregar la URL de la imagen al historial\n",
    "                history_chat.append({'role': 'model', 'parts': [f\"Image URL: {image_url}\"]})\n",
    "\n",
    "chat()"
   ]
  }
 ],
 "metadata": {
  "kernelspec": {
   "display_name": "giulianpromp",
   "language": "python",
   "name": "python3"
  },
  "language_info": {
   "codemirror_mode": {
    "name": "ipython",
    "version": 3
   },
   "file_extension": ".py",
   "mimetype": "text/x-python",
   "name": "python",
   "nbconvert_exporter": "python",
   "pygments_lexer": "ipython3",
   "version": "3.10.14"
  }
 },
 "nbformat": 4,
 "nbformat_minor": 2
}
