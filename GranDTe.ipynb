{
 "cells": [
  {
   "cell_type": "code",
   "execution_count": null,
   "metadata": {},
   "outputs": [],
   "source": [
    "pip install -U google-generativeai \n",
    "pip install openai \n",
    "\n",
    "import google.generativeai as genai #importa gemini\n",
    "import openai #importa openai\n",
    "import requests #necesario\n",
    "import os #necesario"
   ]
  },
  {
   "cell_type": "code",
   "execution_count": null,
   "metadata": {},
   "outputs": [],
   "source": [
    "openai.api_key = \"\" #apikey de openia\n",
    "genai.configure(api_key=\"\") #apikey de gemini"
   ]
  },
  {
   "cell_type": "code",
   "execution_count": null,
   "metadata": {},
   "outputs": [],
   "source": [
    "#en el system_instruction se da el contexto\n",
    "model = genai.GenerativeModel(\n",
    "    modelName=\"gemini-1.5-flash\",\n",
    "    generationConfig=generation_config,\n",
    "    system_instruction=\"Eres un manager de fútbol un profesional como Pep Guardiola el hombre que más sabe de fútbol, y recomendará a los mejores jugadores para la posición del campo solicitada, dando datos como su valor, edad y habilidad con el balón. Además generas una imagen de el jugador con otro modelo por lo que si el usuario te dice no después de la primera recomendación es por que no requirió la imagen.\",\n",
    ")\n",
    "\n",
    "#modelo de google\n",
    "generationConfig = {\n",
    "    \"temperature\": 0.5,\n",
    "    \"top_p\": 0.95,\n",
    "    \"top_k\": 64,\n",
    "    \"max_output_tokens\": 8192,\n",
    "    \"response_mime_type\": \"text/plain\",\n",
    "}\n"
   ]
  },
  {
   "cell_type": "code",
   "execution_count": null,
   "metadata": {},
   "outputs": [],
   "source": [
    "historyChat = []\n",
    "# funcion para generar la imagen desde openai\n",
    "def generateImageOpenai(prompt):\n",
    "    responseImage = openai.Image.create(\n",
    "        prompt=prompt,\n",
    "        n=1,\n",
    "        size=\"1024x1024\"\n",
    "    )\n",
    "    # retorna la imagen en una url\n",
    "    response = responseImage['data'][0]['url']\n",
    "    return response\n",
    "\n",
    "\n",
    "def chat():\n",
    "    chatSession = model.start_chat(history=historyChat)\n",
    "    \n",
    "    print(\"Soy Pep Guardiola un entrenador de fútbol. Doy recomendaciones de jugadors que puedes necesitar para tu equipo, adelante pideme la posición del campo en la que te interesa fichar a un jugador.\")\n",
    "    \n",
    "    while True:\n",
    "\n",
    "        mensajeUsuario = input(\"Tu: \")\n",
    "\n",
    "        if mensajeUsuario.lower() == \"salir\":  # Salir del chat\n",
    "            break\n",
    "\n",
    "        response = chatSession.send_message(mensajeUsuario)\n",
    "        print(response.text)  \n",
    "\n",
    "        # Actualizar historial con la respuesta de Gemini\n",
    "        historyChat.append({'role': 'user', 'parts': [mensajeUsuario]})\n",
    "        historyChat.append({'role': 'model', 'parts': [response.text]})\n",
    "\n",
    "        if len(historyChat) == 2:   \n",
    "            \n",
    "            imageGenerate = input(\"¿Deseas generar una imagen con OpenAI basada en tu mensaje? (sí/no): \").strip().lower()\n",
    "            \n",
    "            if imageGenerate == \"sí\" or imageGenerate == \"si\":\n",
    "                image_url = generateImageOpenai(mensajeUsuario)\n",
    "                print(f\"Image URL: {image_url}\")\n",
    "            elif imageGenerate == \"no\":\n",
    "                print(\"Elija otra posicion del campo o otra opcion de jugador, si desea salir escriba 'salir' \")\n",
    "\n",
    "            else:\n",
    "                print(\"Respuesta no válida. Por favor, responde con 'sí' o 'no'.\")\n",
    "\n",
    "                # Agregar la URL de la imagen al historial\n",
    "                historyChat.append({'role': 'model', 'parts': [f\"Image URL: {image_url}\"]})\n",
    "\n",
    "chat()"
   ]
  }
 ],
 "metadata": {
  "kernelspec": {
   "display_name": "giulianpromp",
   "language": "python",
   "name": "python3"
  },
  "language_info": {
   "codemirror_mode": {
    "name": "ipython",
    "version": 3
   },
   "file_extension": ".py",
   "mimetype": "text/x-python",
   "name": "python",
   "nbconvert_exporter": "python",
   "pygments_lexer": "ipython3",
   "version": "3.10.14"
  }
 },
 "nbformat": 4,
 "nbformat_minor": 2
}
